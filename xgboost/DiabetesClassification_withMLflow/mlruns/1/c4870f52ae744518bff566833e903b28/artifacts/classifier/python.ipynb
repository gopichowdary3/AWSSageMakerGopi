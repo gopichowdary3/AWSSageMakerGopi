{
 "cells": [
  {
   "cell_type": "code",
   "execution_count": null,
   "id": "5c95a2b9",
   "metadata": {},
   "outputs": [],
   "source": [
    "import pickle\n",
    "import numpy as np\n",
    "import xgboost as xgb\n",
    "from flask import Flask, request, jsonify\n",
    "\n",
    "app = Flask(__name__)\n",
    "\n",
    "# Load the trained XGBoost model from the serialized file\n",
    "with open('/app/model.pkl', 'rb') as f:\n",
    "    model = pickle.load(f)\n",
    "\n",
    "# Define a route for the prediction API\n",
    "@app.route('/predict', methods=['POST'])\n",
    "def predict():\n",
    "    # Get the data from the request\n",
    "    data = request.json\n",
    "\n",
    "    if data is None:\n",
    "        return jsonify({'error': 'Invalid request data'})\n",
    "\n",
    "    \n",
    "    data_df = pd.DataFrame(data, index=[0])\n",
    "\n",
    "    # Convert the data array to a DMatrix object\n",
    "    dmatrix = xgb.DMatrix(data_df)\n",
    "\n",
    "    # Make a prediction using the loaded XGBoost model\n",
    "    prediction = model.predict(dmatrix)\n",
    "\n",
    "    # Return the prediction as a JSON response\n",
    "    response = {'prediction': int(prediction[0])}\n",
    "    return jsonify(response)\n",
    "\n",
    "if __name__ == '__main__':\n",
    "    app.run(host=\"0.0.0.0\", port=80)"
   ]
  }
 ],
 "metadata": {
  "kernelspec": {
   "display_name": "conda_python3",
   "language": "python",
   "name": "conda_python3"
  },
  "language_info": {
   "codemirror_mode": {
    "name": "ipython",
    "version": 3
   },
   "file_extension": ".py",
   "mimetype": "text/x-python",
   "name": "python",
   "nbconvert_exporter": "python",
   "pygments_lexer": "ipython3",
   "version": "3.10.8"
  }
 },
 "nbformat": 4,
 "nbformat_minor": 5
}
